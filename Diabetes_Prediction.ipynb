{
 "cells": [
  {
   "cell_type": "markdown",
   "id": "4e58115b",
   "metadata": {},
   "source": [
    "# Diabetes Prediction with AutoGluon_ :Gaurav Singh\n",
    "This notebook walks through data preprocessing, exploration, and model building using AutoGluon."
   ]
  },
  {
   "cell_type": "code",
   "execution_count": 3,
   "id": "35b58bc3",
   "metadata": {},
   "outputs": [],
   "source": [
    "import pandas as pd\n",
    "import numpy as np\n",
    "import seaborn as sns\n",
    "import matplotlib.pyplot as plt"
   ]
  },
  {
   "cell_type": "markdown",
   "id": "4d8e4a31",
   "metadata": {},
   "source": [
    "## Load the Dataset"
   ]
  },
  {
   "cell_type": "code",
   "execution_count": 4,
   "id": "b38de805",
   "metadata": {},
   "outputs": [
    {
     "data": {
      "text/html": [
       "<div>\n",
       "<style scoped>\n",
       "    .dataframe tbody tr th:only-of-type {\n",
       "        vertical-align: middle;\n",
       "    }\n",
       "\n",
       "    .dataframe tbody tr th {\n",
       "        vertical-align: top;\n",
       "    }\n",
       "\n",
       "    .dataframe thead th {\n",
       "        text-align: right;\n",
       "    }\n",
       "</style>\n",
       "<table border=\"1\" class=\"dataframe\">\n",
       "  <thead>\n",
       "    <tr style=\"text-align: right;\">\n",
       "      <th></th>\n",
       "      <th>Age</th>\n",
       "      <th>Sex</th>\n",
       "      <th>Ethnicity</th>\n",
       "      <th>BMI</th>\n",
       "      <th>Waist_Circumference</th>\n",
       "      <th>Fasting_Blood_Glucose</th>\n",
       "      <th>HbA1c</th>\n",
       "      <th>Blood_Pressure_Systolic</th>\n",
       "      <th>Blood_Pressure_Diastolic</th>\n",
       "      <th>Cholesterol_Total</th>\n",
       "      <th>Cholesterol_HDL</th>\n",
       "      <th>Cholesterol_LDL</th>\n",
       "      <th>GGT</th>\n",
       "      <th>Serum_Urate</th>\n",
       "      <th>Physical_Activity_Level</th>\n",
       "      <th>Dietary_Intake_Calories</th>\n",
       "      <th>Alcohol_Consumption</th>\n",
       "      <th>Smoking_Status</th>\n",
       "      <th>Family_History_of_Diabetes</th>\n",
       "      <th>Previous_Gestational_Diabetes</th>\n",
       "    </tr>\n",
       "  </thead>\n",
       "  <tbody>\n",
       "    <tr>\n",
       "      <th>0</th>\n",
       "      <td>58</td>\n",
       "      <td>Female</td>\n",
       "      <td>White</td>\n",
       "      <td>35.8</td>\n",
       "      <td>83.4</td>\n",
       "      <td>123.9</td>\n",
       "      <td>10.9</td>\n",
       "      <td>152</td>\n",
       "      <td>114</td>\n",
       "      <td>197.8</td>\n",
       "      <td>50.2</td>\n",
       "      <td>99.2</td>\n",
       "      <td>37.5</td>\n",
       "      <td>7.2</td>\n",
       "      <td>Moderate</td>\n",
       "      <td>1538</td>\n",
       "      <td>Moderate</td>\n",
       "      <td>Never</td>\n",
       "      <td>0</td>\n",
       "      <td>1</td>\n",
       "    </tr>\n",
       "    <tr>\n",
       "      <th>1</th>\n",
       "      <td>48</td>\n",
       "      <td>Male</td>\n",
       "      <td>Asian</td>\n",
       "      <td>24.1</td>\n",
       "      <td>71.4</td>\n",
       "      <td>183.7</td>\n",
       "      <td>12.8</td>\n",
       "      <td>103</td>\n",
       "      <td>91</td>\n",
       "      <td>261.6</td>\n",
       "      <td>62.0</td>\n",
       "      <td>146.4</td>\n",
       "      <td>88.5</td>\n",
       "      <td>6.1</td>\n",
       "      <td>Moderate</td>\n",
       "      <td>2653</td>\n",
       "      <td>Moderate</td>\n",
       "      <td>Current</td>\n",
       "      <td>0</td>\n",
       "      <td>1</td>\n",
       "    </tr>\n",
       "    <tr>\n",
       "      <th>2</th>\n",
       "      <td>34</td>\n",
       "      <td>Female</td>\n",
       "      <td>Black</td>\n",
       "      <td>25.0</td>\n",
       "      <td>113.8</td>\n",
       "      <td>142.0</td>\n",
       "      <td>14.5</td>\n",
       "      <td>179</td>\n",
       "      <td>104</td>\n",
       "      <td>261.0</td>\n",
       "      <td>32.1</td>\n",
       "      <td>164.1</td>\n",
       "      <td>56.2</td>\n",
       "      <td>6.9</td>\n",
       "      <td>Low</td>\n",
       "      <td>1684</td>\n",
       "      <td>Heavy</td>\n",
       "      <td>Former</td>\n",
       "      <td>1</td>\n",
       "      <td>0</td>\n",
       "    </tr>\n",
       "    <tr>\n",
       "      <th>3</th>\n",
       "      <td>62</td>\n",
       "      <td>Male</td>\n",
       "      <td>Asian</td>\n",
       "      <td>32.7</td>\n",
       "      <td>100.4</td>\n",
       "      <td>167.4</td>\n",
       "      <td>8.8</td>\n",
       "      <td>176</td>\n",
       "      <td>118</td>\n",
       "      <td>183.4</td>\n",
       "      <td>41.1</td>\n",
       "      <td>84.0</td>\n",
       "      <td>34.4</td>\n",
       "      <td>5.4</td>\n",
       "      <td>Low</td>\n",
       "      <td>3796</td>\n",
       "      <td>Moderate</td>\n",
       "      <td>Never</td>\n",
       "      <td>1</td>\n",
       "      <td>0</td>\n",
       "    </tr>\n",
       "    <tr>\n",
       "      <th>4</th>\n",
       "      <td>27</td>\n",
       "      <td>Female</td>\n",
       "      <td>Asian</td>\n",
       "      <td>33.5</td>\n",
       "      <td>110.8</td>\n",
       "      <td>146.4</td>\n",
       "      <td>7.1</td>\n",
       "      <td>122</td>\n",
       "      <td>97</td>\n",
       "      <td>203.2</td>\n",
       "      <td>53.9</td>\n",
       "      <td>92.8</td>\n",
       "      <td>81.9</td>\n",
       "      <td>7.4</td>\n",
       "      <td>Moderate</td>\n",
       "      <td>3161</td>\n",
       "      <td>Heavy</td>\n",
       "      <td>Current</td>\n",
       "      <td>0</td>\n",
       "      <td>0</td>\n",
       "    </tr>\n",
       "  </tbody>\n",
       "</table>\n",
       "</div>"
      ],
      "text/plain": [
       "   Age     Sex Ethnicity   BMI  Waist_Circumference  Fasting_Blood_Glucose  \\\n",
       "0   58  Female     White  35.8                 83.4                  123.9   \n",
       "1   48    Male     Asian  24.1                 71.4                  183.7   \n",
       "2   34  Female     Black  25.0                113.8                  142.0   \n",
       "3   62    Male     Asian  32.7                100.4                  167.4   \n",
       "4   27  Female     Asian  33.5                110.8                  146.4   \n",
       "\n",
       "   HbA1c  Blood_Pressure_Systolic  Blood_Pressure_Diastolic  \\\n",
       "0   10.9                      152                       114   \n",
       "1   12.8                      103                        91   \n",
       "2   14.5                      179                       104   \n",
       "3    8.8                      176                       118   \n",
       "4    7.1                      122                        97   \n",
       "\n",
       "   Cholesterol_Total  Cholesterol_HDL  Cholesterol_LDL   GGT  Serum_Urate  \\\n",
       "0              197.8             50.2             99.2  37.5          7.2   \n",
       "1              261.6             62.0            146.4  88.5          6.1   \n",
       "2              261.0             32.1            164.1  56.2          6.9   \n",
       "3              183.4             41.1             84.0  34.4          5.4   \n",
       "4              203.2             53.9             92.8  81.9          7.4   \n",
       "\n",
       "  Physical_Activity_Level  Dietary_Intake_Calories Alcohol_Consumption  \\\n",
       "0                Moderate                     1538            Moderate   \n",
       "1                Moderate                     2653            Moderate   \n",
       "2                     Low                     1684               Heavy   \n",
       "3                     Low                     3796            Moderate   \n",
       "4                Moderate                     3161               Heavy   \n",
       "\n",
       "  Smoking_Status  Family_History_of_Diabetes  Previous_Gestational_Diabetes  \n",
       "0          Never                           0                              1  \n",
       "1        Current                           0                              1  \n",
       "2         Former                           1                              0  \n",
       "3          Never                           1                              0  \n",
       "4        Current                           0                              0  "
      ]
     },
     "execution_count": 4,
     "metadata": {},
     "output_type": "execute_result"
    }
   ],
   "source": [
    "df = pd.read_csv('diabetes_dataset.csv')\n",
    "df.drop(['Unnamed: 0'], axis=1, inplace=True)\n",
    "df.head()"
   ]
  },
  {
   "cell_type": "markdown",
   "id": "9782fcbe",
   "metadata": {},
   "source": [
    "## Check for Missing Values"
   ]
  },
  {
   "cell_type": "code",
   "execution_count": 5,
   "id": "bc9b1643",
   "metadata": {},
   "outputs": [
    {
     "data": {
      "text/plain": [
       "Age                                 0\n",
       "Sex                                 0\n",
       "Ethnicity                           0\n",
       "BMI                                 0\n",
       "Waist_Circumference                 0\n",
       "Fasting_Blood_Glucose               0\n",
       "HbA1c                               0\n",
       "Blood_Pressure_Systolic             0\n",
       "Blood_Pressure_Diastolic            0\n",
       "Cholesterol_Total                   0\n",
       "Cholesterol_HDL                     0\n",
       "Cholesterol_LDL                     0\n",
       "GGT                                 0\n",
       "Serum_Urate                         0\n",
       "Physical_Activity_Level             0\n",
       "Dietary_Intake_Calories             0\n",
       "Alcohol_Consumption              3320\n",
       "Smoking_Status                      0\n",
       "Family_History_of_Diabetes          0\n",
       "Previous_Gestational_Diabetes       0\n",
       "dtype: int64"
      ]
     },
     "execution_count": 5,
     "metadata": {},
     "output_type": "execute_result"
    }
   ],
   "source": [
    "df.isnull().sum()"
   ]
  },
  {
   "cell_type": "code",
   "execution_count": 6,
   "id": "f7ed3598-fe7d-4340-ad7d-17f636f270dd",
   "metadata": {},
   "outputs": [],
   "source": [
    "df['Alcohol_Consumption'] = df['Alcohol_Consumption'].fillna(df['Alcohol_Consumption'].mode()[0])\n"
   ]
  },
  {
   "cell_type": "code",
   "execution_count": 7,
   "id": "5eb1b985-aa2d-4ecb-acec-f6b741cd1ccc",
   "metadata": {},
   "outputs": [
    {
     "data": {
      "text/plain": [
       "Age                              0\n",
       "Sex                              0\n",
       "Ethnicity                        0\n",
       "BMI                              0\n",
       "Waist_Circumference              0\n",
       "Fasting_Blood_Glucose            0\n",
       "HbA1c                            0\n",
       "Blood_Pressure_Systolic          0\n",
       "Blood_Pressure_Diastolic         0\n",
       "Cholesterol_Total                0\n",
       "Cholesterol_HDL                  0\n",
       "Cholesterol_LDL                  0\n",
       "GGT                              0\n",
       "Serum_Urate                      0\n",
       "Physical_Activity_Level          0\n",
       "Dietary_Intake_Calories          0\n",
       "Alcohol_Consumption              0\n",
       "Smoking_Status                   0\n",
       "Family_History_of_Diabetes       0\n",
       "Previous_Gestational_Diabetes    0\n",
       "dtype: int64"
      ]
     },
     "execution_count": 7,
     "metadata": {},
     "output_type": "execute_result"
    }
   ],
   "source": [
    "df.isnull().sum()"
   ]
  },
  {
   "cell_type": "markdown",
   "id": "698af46f",
   "metadata": {},
   "source": [
    "## Explore Categorical Features"
   ]
  },
  {
   "cell_type": "code",
   "execution_count": 8,
   "id": "f3f14261",
   "metadata": {},
   "outputs": [
    {
     "name": "stdout",
     "output_type": "stream",
     "text": [
      "Sex: ['Female' 'Male']\n",
      "Ethnicity: ['White' 'Asian' 'Black' 'Hispanic']\n",
      "Physical_Activity_Level: ['Moderate' 'Low' 'High']\n",
      "Alcohol_Consumption: ['Moderate' 'Heavy']\n",
      "Smoking_Status: ['Never' 'Current' 'Former']\n"
     ]
    }
   ],
   "source": [
    "for col in df.select_dtypes(include='object').columns:\n",
    "    print(f'{col}: {df[col].unique()}')"
   ]
  },
  {
   "cell_type": "markdown",
   "id": "491d7955",
   "metadata": {},
   "source": [
    "## Create the Target Column"
   ]
  },
  {
   "cell_type": "code",
   "execution_count": 9,
   "id": "0ce63f6a",
   "metadata": {},
   "outputs": [],
   "source": [
    "df['Diabetes'] = df.apply(\n",
    "    lambda row: 1 if row['Fasting_Blood_Glucose'] >= 126 or row['HbA1c'] >= 6.5 else 0,\n",
    "    axis=1\n",
    ")"
   ]
  },
  {
   "cell_type": "markdown",
   "id": "4d070685",
   "metadata": {},
   "source": [
    "## Basic Visualization"
   ]
  },
  {
   "cell_type": "code",
   "execution_count": 10,
   "id": "20545e84",
   "metadata": {},
   "outputs": [
    {
     "data": {
      "image/png": "[encoded data removed]",
      "text/plain": [
       "<Figure size 640x480 with 1 Axes>"
      ]
     },
     "metadata": {},
     "output_type": "display_data"
    }
   ],
   "source": [
    "sns.countplot(x='Diabetes', data=df)\n",
    "plt.title('Diabetes Distribution')\n",
    "plt.show()"
   ]
  },
  {
   "cell_type": "markdown",
   "id": "7c575e7e",
   "metadata": {},
   "source": [
    "## Train-Test Split"
   ]
  },
  {
   "cell_type": "code",
   "execution_count": 11,
   "id": "957a8165",
   "metadata": {},
   "outputs": [],
   "source": [
    "from sklearn.model_selection import train_test_split\n",
    "\n",
    "train_data, test_data = train_test_split(df, test_size=0.2, random_state=42)"
   ]
  },
  {
   "cell_type": "markdown",
   "id": "dee40d2d",
   "metadata": {},
   "source": [
    "## Train AutoGluon TabularPredictor"
   ]
  },
  {
   "cell_type": "code",
   "execution_count": null,
   "id": "7e435323-5616-44a9-a84e-7b39ad6dd5de",
   "metadata": {},
   "outputs": [],
   "source": []
  },
  {
   "cell_type": "code",
   "execution_count": 12,
   "id": "fec8047b",
   "metadata": {},
   "outputs": [
    {
     "name": "stderr",
     "output_type": "stream",
     "text": [
      "No path specified. Models will be saved in: \"AutogluonModels\\ag-20250425_182158\"\n",
      "Verbosity: 2 (Standard Logging)\n",
      "=================== System Info ===================\n",
      "AutoGluon Version:  1.2\n",
      "Python Version:     3.11.0\n",
      "Operating System:   Windows\n",
      "Platform Machine:   AMD64\n",
      "Platform Version:   10.0.26100\n",
      "CPU Count:          12\n",
      "Memory Avail:       1.91 GB / 15.34 GB (12.4%)\n",
      "Disk Space Avail:   48.09 GB / 231.24 GB (20.8%)\n",
      "===================================================\n",
      "No presets specified! To achieve strong results with AutoGluon, it is recommended to use the available presets. Defaulting to `'medium'`...\n",
      "\tRecommended Presets (For more details refer to https://auto.gluon.ai/stable/tutorials/tabular/tabular-essentials.html#presets):\n",
      "\tpresets='experimental' : New in v1.2: Pre-trained foundation model + parallel fits. The absolute best accuracy without consideration for inference speed. Does not support GPU.\n",
      "\tpresets='best'         : Maximize accuracy. Recommended for most users. Use in competitions and benchmarks.\n",
      "\tpresets='high'         : Strong accuracy with fast inference speed.\n",
      "\tpresets='good'         : Good accuracy with very fast inference speed.\n",
      "\tpresets='medium'       : Fast training time, ideal for initial prototyping.\n",
      "Beginning AutoGluon training ...\n",
      "AutoGluon will save models to \"C:\\Users\\Offic\\OneDrive\\Desktop\\Diabetes_Prediction\\AutogluonModels\\ag-20250425_182158\"\n",
      "Train Data Rows:    8000\n",
      "Train Data Columns: 20\n",
      "Label Column:       Diabetes\n",
      "AutoGluon infers your prediction problem is: 'binary' (because only two unique label-values observed).\n",
      "\t2 unique label values:  [1, 0]\n",
      "\tIf 'binary' is not the correct problem_type, please manually specify the problem_type parameter during Predictor init (You may specify problem_type as one of: ['binary', 'multiclass', 'regression', 'quantile'])\n",
      "Problem Type:       binary\n",
      "Preprocessing data ...\n",
      "Selected class <--> label mapping:  class 1 = 1, class 0 = 0\n",
      "Using Feature Generators to preprocess the data ...\n",
      "Fitting AutoMLPipelineFeatureGenerator...\n",
      "\tAvailable Memory:                    1965.00 MB\n",
      "\tTrain Data (Original)  Memory Usage: 3.31 MB (0.2% of available memory)\n",
      "\tInferring data type of each feature based on column values. Set feature_metadata_in to manually specify special dtypes of the features.\n",
      "\tStage 1 Generators:\n",
      "\t\tFitting AsTypeFeatureGenerator...\n",
      "\t\t\tNote: Converting 4 features to boolean dtype as they only contain 2 unique values.\n",
      "\tStage 2 Generators:\n",
      "\t\tFitting FillNaFeatureGenerator...\n",
      "\tStage 3 Generators:\n",
      "\t\tFitting IdentityFeatureGenerator...\n",
      "\t\tFitting CategoryFeatureGenerator...\n",
      "\t\t\tFitting CategoryMemoryMinimizeFeatureGenerator...\n",
      "\tStage 4 Generators:\n",
      "\t\tFitting DropUniqueFeatureGenerator...\n",
      "\tStage 5 Generators:\n",
      "\t\tFitting DropDuplicatesFeatureGenerator...\n",
      "\tTypes of features in original data (raw dtype, special dtypes):\n",
      "\t\t('float', [])  : 9 | ['BMI', 'Waist_Circumference', 'Fasting_Blood_Glucose', 'HbA1c', 'Cholesterol_Total', ...]\n",
      "\t\t('int', [])    : 6 | ['Age', 'Blood_Pressure_Systolic', 'Blood_Pressure_Diastolic', 'Dietary_Intake_Calories', 'Family_History_of_Diabetes', ...]\n",
      "\t\t('object', []) : 5 | ['Sex', 'Ethnicity', 'Physical_Activity_Level', 'Alcohol_Consumption', 'Smoking_Status']\n",
      "\tTypes of features in processed data (raw dtype, special dtypes):\n",
      "\t\t('category', [])  : 3 | ['Ethnicity', 'Physical_Activity_Level', 'Smoking_Status']\n",
      "\t\t('float', [])     : 9 | ['BMI', 'Waist_Circumference', 'Fasting_Blood_Glucose', 'HbA1c', 'Cholesterol_Total', ...]\n",
      "\t\t('int', [])       : 4 | ['Age', 'Blood_Pressure_Systolic', 'Blood_Pressure_Diastolic', 'Dietary_Intake_Calories']\n",
      "\t\t('int', ['bool']) : 4 | ['Sex', 'Alcohol_Consumption', 'Family_History_of_Diabetes', 'Previous_Gestational_Diabetes']\n",
      "\t0.1s = Fit runtime\n",
      "\t20 features in original data used to generate 20 features in processed data.\n",
      "\tTrain Data (Processed) Memory Usage: 0.85 MB (0.0% of available memory)\n",
      "Data preprocessing and feature engineering runtime = 0.1s ...\n",
      "AutoGluon will gauge predictive performance using evaluation metric: 'accuracy'\n",
      "\tTo change this, specify the eval_metric parameter of Predictor()\n",
      "Automatically generating train/validation split with holdout_frac=0.1, Train Rows: 7200, Val Rows: 800\n",
      "User-specified model hyperparameters to be fit:\n",
      "{\n",
      "\t'NN_TORCH': [{}],\n",
      "\t'GBM': [{'extra_trees': True, 'ag_args': {'name_suffix': 'XT'}}, {}, {'learning_rate': 0.03, 'num_leaves': 128, 'feature_fraction': 0.9, 'min_data_in_leaf': 3, 'ag_args': {'name_suffix': 'Large', 'priority': 0, 'hyperparameter_tune_kwargs': None}}],\n",
      "\t'CAT': [{}],\n",
      "\t'XGB': [{}],\n",
      "\t'FASTAI': [{}],\n",
      "\t'RF': [{'criterion': 'gini', 'ag_args': {'name_suffix': 'Gini', 'problem_types': ['binary', 'multiclass']}}, {'criterion': 'entropy', 'ag_args': {'name_suffix': 'Entr', 'problem_types': ['binary', 'multiclass']}}, {'criterion': 'squared_error', 'ag_args': {'name_suffix': 'MSE', 'problem_types': ['regression', 'quantile']}}],\n",
      "\t'XT': [{'criterion': 'gini', 'ag_args': {'name_suffix': 'Gini', 'problem_types': ['binary', 'multiclass']}}, {'criterion': 'entropy', 'ag_args': {'name_suffix': 'Entr', 'problem_types': ['binary', 'multiclass']}}, {'criterion': 'squared_error', 'ag_args': {'name_suffix': 'MSE', 'problem_types': ['regression', 'quantile']}}],\n",
      "\t'KNN': [{'weights': 'uniform', 'ag_args': {'name_suffix': 'Unif'}}, {'weights': 'distance', 'ag_args': {'name_suffix': 'Dist'}}],\n",
      "}\n",
      "Fitting 13 L1 models, fit_strategy=\"sequential\" ...\n",
      "Fitting model: KNeighborsUnif ...\n",
      "\t0.89\t = Validation score   (accuracy)\n",
      "\t2.09s\t = Training   runtime\n",
      "\t0.02s\t = Validation runtime\n",
      "Fitting model: KNeighborsDist ...\n",
      "\t0.8888\t = Validation score   (accuracy)\n",
      "\t0.02s\t = Training   runtime\n",
      "\t0.02s\t = Validation runtime\n",
      "Fitting model: LightGBMXT ...\n",
      "\t0.9988\t = Validation score   (accuracy)\n",
      "\t0.9s\t = Training   runtime\n",
      "\t0.01s\t = Validation runtime\n",
      "Fitting model: LightGBM ...\n",
      "\t1.0\t = Validation score   (accuracy)\n",
      "\t0.46s\t = Training   runtime\n",
      "\t0.0s\t = Validation runtime\n",
      "Fitting model: RandomForestGini ...\n",
      "\t1.0\t = Validation score   (accuracy)\n",
      "\t0.65s\t = Training   runtime\n",
      "\t0.05s\t = Validation runtime\n",
      "Fitting model: RandomForestEntr ...\n",
      "\t1.0\t = Validation score   (accuracy)\n",
      "\t0.6s\t = Training   runtime\n",
      "\t0.05s\t = Validation runtime\n",
      "Fitting model: CatBoost ...\n",
      "\t1.0\t = Validation score   (accuracy)\n",
      "\t10.98s\t = Training   runtime\n",
      "\t0.0s\t = Validation runtime\n",
      "Fitting model: ExtraTreesGini ...\n",
      "\t0.9587\t = Validation score   (accuracy)\n",
      "\t0.59s\t = Training   runtime\n",
      "\t0.05s\t = Validation runtime\n",
      "Fitting model: ExtraTreesEntr ...\n",
      "\t0.9625\t = Validation score   (accuracy)\n",
      "\t0.58s\t = Training   runtime\n",
      "\t0.05s\t = Validation runtime\n",
      "Fitting model: NeuralNetFastAI ...\n",
      "\t0.995\t = Validation score   (accuracy)\n",
      "\t6.19s\t = Training   runtime\n",
      "\t0.02s\t = Validation runtime\n",
      "Fitting model: XGBoost ...\n",
      "\t1.0\t = Validation score   (accuracy)\n",
      "\t0.49s\t = Training   runtime\n",
      "\t0.01s\t = Validation runtime\n",
      "Fitting model: NeuralNetTorch ...\n",
      "\t0.9925\t = Validation score   (accuracy)\n",
      "\t11.85s\t = Training   runtime\n",
      "\t0.01s\t = Validation runtime\n",
      "Fitting model: LightGBMLarge ...\n",
      "\t1.0\t = Validation score   (accuracy)\n",
      "\t1.21s\t = Training   runtime\n",
      "\t0.0s\t = Validation runtime\n",
      "Fitting model: WeightedEnsemble_L2 ...\n",
      "\tEnsemble Weights: {'LightGBM': 1.0}\n",
      "\t1.0\t = Validation score   (accuracy)\n",
      "\t0.09s\t = Training   runtime\n",
      "\t0.0s\t = Validation runtime\n",
      "AutoGluon training complete, total runtime = 37.37s ... Best model: WeightedEnsemble_L2 | Estimated inference throughput: 159882.0 rows/s (800 batch size)\n",
      "Disabling decision threshold calibration for metric `accuracy` due to having fewer than 10000 rows of validation data for calibration, to avoid overfitting (800 rows).\n",
      "\t`accuracy` is generally not improved through threshold calibration. Force calibration via specifying `calibrate_decision_threshold=True`.\n",
      "TabularPredictor saved. To load, use: predictor = TabularPredictor.load(\"C:\\Users\\Offic\\OneDrive\\Desktop\\Diabetes_Prediction\\AutogluonModels\\ag-20250425_182158\")\n"
     ]
    }
   ],
   "source": [
    "from autogluon.tabular import TabularPredictor\n",
    "\n",
    "predictor = TabularPredictor(label='Diabetes').fit(train_data)"
   ]
  },
  {
   "cell_type": "markdown",
   "id": "06eaffb6",
   "metadata": {},
   "source": [
    "## Model Evaluation"
   ]
  },
  {
   "cell_type": "code",
   "execution_count": 13,
   "id": "2a8669f4",
   "metadata": {},
   "outputs": [
    {
     "data": {
      "text/plain": [
       "{'accuracy': 1.0,\n",
       " 'balanced_accuracy': 1.0,\n",
       " 'mcc': 1.0,\n",
       " 'roc_auc': 1.0,\n",
       " 'f1': 1.0,\n",
       " 'precision': 1.0,\n",
       " 'recall': 1.0}"
      ]
     },
     "execution_count": 13,
     "metadata": {},
     "output_type": "execute_result"
    }
   ],
   "source": [
    "predictor.evaluate(test_data)"
   ]
  },
  {
   "cell_type": "markdown",
   "id": "788da4aa",
   "metadata": {},
   "source": [
    "## Feature Importance"
   ]
  },
  {
   "cell_type": "code",
   "execution_count": 14,
   "id": "580da278",
   "metadata": {},
   "outputs": [
    {
     "name": "stderr",
     "output_type": "stream",
     "text": [
      "Computing feature importance via permutation shuffling for 20 features using 2000 rows with 5 shuffle sets...\n",
      "\t1.72s\t= Expected runtime (0.34s per shuffle set)\n",
      "\t0.42s\t= Actual runtime (Completed 5 of 5 shuffle sets)\n"
     ]
    },
    {
     "data": {
      "image/png": "[encoded data removed]",
      "text/plain": [
       "<Figure size 1000x600 with 1 Axes>"
      ]
     },
     "metadata": {},
     "output_type": "display_data"
    }
   ],
   "source": [
    "# predictor.feature_importance(test_data)\n",
    "importance = predictor.feature_importance(test_data)\n",
    "\n",
    "# Plot feature importance\n",
    "# Plot only Top 10 Features\n",
    "plt.figure(figsize=(10, 6))\n",
    "top_features = importance.head(10)\n",
    "sns.barplot(x=top_features['importance'], y=top_features.index)\n",
    "plt.title('Top 10 Feature Importance')\n",
    "plt.xlabel('Importance Score')\n",
    "plt.ylabel('Feature')\n",
    "plt.tight_layout()\n",
    "plt.show()\n"
   ]
  },
  {
   "cell_type": "markdown",
   "id": "88c7d083-c6da-4ead-acf0-181ed20d36c5",
   "metadata": {},
   "source": [
    "**Make Predictions**"
   ]
  },
  {
   "cell_type": "code",
   "execution_count": 15,
   "id": "4908c21c-8f31-474f-ad8e-f3c83e4f7540",
   "metadata": {},
   "outputs": [],
   "source": [
    "#final prediction is being done using AutoGluon’s TabularPredictor, which internally selects the best model or ensemble based on performance on validation data.**"
   ]
  },
  {
   "cell_type": "code",
   "execution_count": 16,
   "id": "b4fc6bc1-4102-424e-82e3-cb1284322134",
   "metadata": {},
   "outputs": [
    {
     "data": {
      "text/plain": [
       "6252    1\n",
       "4684    1\n",
       "1731    1\n",
       "4742    0\n",
       "4521    1\n",
       "Name: Diabetes, dtype: int64"
      ]
     },
     "execution_count": 16,
     "metadata": {},
     "output_type": "execute_result"
    }
   ],
   "source": [
    "predictions = predictor.predict(test_data)\n",
    "predictions.head()"
   ]
  },
  {
   "cell_type": "code",
   "execution_count": 17,
   "id": "6da4fb5e-15b2-4220-b8e8-ac2aff29f9d4",
   "metadata": {},
   "outputs": [],
   "source": [
    "# Too check all models "
   ]
  },
  {
   "cell_type": "code",
   "execution_count": 18,
   "id": "6adc6d55-56e7-4ed0-a70e-55d8afd9cf00",
   "metadata": {},
   "outputs": [
    {
     "name": "stdout",
     "output_type": "stream",
     "text": [
      "                  model  score_val eval_metric  pred_time_val   fit_time  pred_time_val_marginal  fit_time_marginal  stack_level  can_infer  fit_order\n",
      "0              CatBoost    1.00000    accuracy       0.000000  10.984986                0.000000          10.984986            1       True          7\n",
      "1         LightGBMLarge    1.00000    accuracy       0.003251   1.207607                0.003251           1.207607            1       True         13\n",
      "2              LightGBM    1.00000    accuracy       0.004004   0.463083                0.004004           0.463083            1       True          4\n",
      "3   WeightedEnsemble_L2    1.00000    accuracy       0.005004   0.549740                0.000999           0.086657            2       True         14\n",
      "4               XGBoost    1.00000    accuracy       0.005745   0.490751                0.005745           0.490751            1       True         11\n",
      "5      RandomForestGini    1.00000    accuracy       0.048708   0.647593                0.048708           0.647593            1       True          5\n",
      "6      RandomForestEntr    1.00000    accuracy       0.049896   0.597038                0.049896           0.597038            1       True          6\n",
      "7            LightGBMXT    0.99875    accuracy       0.005007   0.898967                0.005007           0.898967            1       True          3\n",
      "8       NeuralNetFastAI    0.99500    accuracy       0.016053   6.190339                0.016053           6.190339            1       True         10\n",
      "9        NeuralNetTorch    0.99250    accuracy       0.011129  11.853580                0.011129          11.853580            1       True         12\n",
      "10       ExtraTreesEntr    0.96250    accuracy       0.048540   0.581442                0.048540           0.581442            1       True          9\n",
      "11       ExtraTreesGini    0.95875    accuracy       0.049312   0.593273                0.049312           0.593273            1       True          8\n",
      "12       KNeighborsUnif    0.89000    accuracy       0.020895   2.087476                0.020895           2.087476            1       True          1\n",
      "13       KNeighborsDist    0.88875    accuracy       0.017680   0.016561                0.017680           0.016561            1       True          2\n"
     ]
    },
    {
     "data": {
      "text/html": [
       "<div>\n",
       "<style scoped>\n",
       "    .dataframe tbody tr th:only-of-type {\n",
       "        vertical-align: middle;\n",
       "    }\n",
       "\n",
       "    .dataframe tbody tr th {\n",
       "        vertical-align: top;\n",
       "    }\n",
       "\n",
       "    .dataframe thead th {\n",
       "        text-align: right;\n",
       "    }\n",
       "</style>\n",
       "<table border=\"1\" class=\"dataframe\">\n",
       "  <thead>\n",
       "    <tr style=\"text-align: right;\">\n",
       "      <th></th>\n",
       "      <th>model</th>\n",
       "      <th>score_val</th>\n",
       "      <th>eval_metric</th>\n",
       "      <th>pred_time_val</th>\n",
       "      <th>fit_time</th>\n",
       "      <th>pred_time_val_marginal</th>\n",
       "      <th>fit_time_marginal</th>\n",
       "      <th>stack_level</th>\n",
       "      <th>can_infer</th>\n",
       "      <th>fit_order</th>\n",
       "    </tr>\n",
       "  </thead>\n",
       "  <tbody>\n",
       "    <tr>\n",
       "      <th>0</th>\n",
       "      <td>CatBoost</td>\n",
       "      <td>1.00000</td>\n",
       "      <td>accuracy</td>\n",
       "      <td>0.000000</td>\n",
       "      <td>10.984986</td>\n",
       "      <td>0.000000</td>\n",
       "      <td>10.984986</td>\n",
       "      <td>1</td>\n",
       "      <td>True</td>\n",
       "      <td>7</td>\n",
       "    </tr>\n",
       "    <tr>\n",
       "      <th>1</th>\n",
       "      <td>LightGBMLarge</td>\n",
       "      <td>1.00000</td>\n",
       "      <td>accuracy</td>\n",
       "      <td>0.003251</td>\n",
       "      <td>1.207607</td>\n",
       "      <td>0.003251</td>\n",
       "      <td>1.207607</td>\n",
       "      <td>1</td>\n",
       "      <td>True</td>\n",
       "      <td>13</td>\n",
       "    </tr>\n",
       "    <tr>\n",
       "      <th>2</th>\n",
       "      <td>LightGBM</td>\n",
       "      <td>1.00000</td>\n",
       "      <td>accuracy</td>\n",
       "      <td>0.004004</td>\n",
       "      <td>0.463083</td>\n",
       "      <td>0.004004</td>\n",
       "      <td>0.463083</td>\n",
       "      <td>1</td>\n",
       "      <td>True</td>\n",
       "      <td>4</td>\n",
       "    </tr>\n",
       "    <tr>\n",
       "      <th>3</th>\n",
       "      <td>WeightedEnsemble_L2</td>\n",
       "      <td>1.00000</td>\n",
       "      <td>accuracy</td>\n",
       "      <td>0.005004</td>\n",
       "      <td>0.549740</td>\n",
       "      <td>0.000999</td>\n",
       "      <td>0.086657</td>\n",
       "      <td>2</td>\n",
       "      <td>True</td>\n",
       "      <td>14</td>\n",
       "    </tr>\n",
       "    <tr>\n",
       "      <th>4</th>\n",
       "      <td>XGBoost</td>\n",
       "      <td>1.00000</td>\n",
       "      <td>accuracy</td>\n",
       "      <td>0.005745</td>\n",
       "      <td>0.490751</td>\n",
       "      <td>0.005745</td>\n",
       "      <td>0.490751</td>\n",
       "      <td>1</td>\n",
       "      <td>True</td>\n",
       "      <td>11</td>\n",
       "    </tr>\n",
       "    <tr>\n",
       "      <th>5</th>\n",
       "      <td>RandomForestGini</td>\n",
       "      <td>1.00000</td>\n",
       "      <td>accuracy</td>\n",
       "      <td>0.048708</td>\n",
       "      <td>0.647593</td>\n",
       "      <td>0.048708</td>\n",
       "      <td>0.647593</td>\n",
       "      <td>1</td>\n",
       "      <td>True</td>\n",
       "      <td>5</td>\n",
       "    </tr>\n",
       "    <tr>\n",
       "      <th>6</th>\n",
       "      <td>RandomForestEntr</td>\n",
       "      <td>1.00000</td>\n",
       "      <td>accuracy</td>\n",
       "      <td>0.049896</td>\n",
       "      <td>0.597038</td>\n",
       "      <td>0.049896</td>\n",
       "      <td>0.597038</td>\n",
       "      <td>1</td>\n",
       "      <td>True</td>\n",
       "      <td>6</td>\n",
       "    </tr>\n",
       "    <tr>\n",
       "      <th>7</th>\n",
       "      <td>LightGBMXT</td>\n",
       "      <td>0.99875</td>\n",
       "      <td>accuracy</td>\n",
       "      <td>0.005007</td>\n",
       "      <td>0.898967</td>\n",
       "      <td>0.005007</td>\n",
       "      <td>0.898967</td>\n",
       "      <td>1</td>\n",
       "      <td>True</td>\n",
       "      <td>3</td>\n",
       "    </tr>\n",
       "    <tr>\n",
       "      <th>8</th>\n",
       "      <td>NeuralNetFastAI</td>\n",
       "      <td>0.99500</td>\n",
       "      <td>accuracy</td>\n",
       "      <td>0.016053</td>\n",
       "      <td>6.190339</td>\n",
       "      <td>0.016053</td>\n",
       "      <td>6.190339</td>\n",
       "      <td>1</td>\n",
       "      <td>True</td>\n",
       "      <td>10</td>\n",
       "    </tr>\n",
       "    <tr>\n",
       "      <th>9</th>\n",
       "      <td>NeuralNetTorch</td>\n",
       "      <td>0.99250</td>\n",
       "      <td>accuracy</td>\n",
       "      <td>0.011129</td>\n",
       "      <td>11.853580</td>\n",
       "      <td>0.011129</td>\n",
       "      <td>11.853580</td>\n",
       "      <td>1</td>\n",
       "      <td>True</td>\n",
       "      <td>12</td>\n",
       "    </tr>\n",
       "    <tr>\n",
       "      <th>10</th>\n",
       "      <td>ExtraTreesEntr</td>\n",
       "      <td>0.96250</td>\n",
       "      <td>accuracy</td>\n",
       "      <td>0.048540</td>\n",
       "      <td>0.581442</td>\n",
       "      <td>0.048540</td>\n",
       "      <td>0.581442</td>\n",
       "      <td>1</td>\n",
       "      <td>True</td>\n",
       "      <td>9</td>\n",
       "    </tr>\n",
       "    <tr>\n",
       "      <th>11</th>\n",
       "      <td>ExtraTreesGini</td>\n",
       "      <td>0.95875</td>\n",
       "      <td>accuracy</td>\n",
       "      <td>0.049312</td>\n",
       "      <td>0.593273</td>\n",
       "      <td>0.049312</td>\n",
       "      <td>0.593273</td>\n",
       "      <td>1</td>\n",
       "      <td>True</td>\n",
       "      <td>8</td>\n",
       "    </tr>\n",
       "    <tr>\n",
       "      <th>12</th>\n",
       "      <td>KNeighborsUnif</td>\n",
       "      <td>0.89000</td>\n",
       "      <td>accuracy</td>\n",
       "      <td>0.020895</td>\n",
       "      <td>2.087476</td>\n",
       "      <td>0.020895</td>\n",
       "      <td>2.087476</td>\n",
       "      <td>1</td>\n",
       "      <td>True</td>\n",
       "      <td>1</td>\n",
       "    </tr>\n",
       "    <tr>\n",
       "      <th>13</th>\n",
       "      <td>KNeighborsDist</td>\n",
       "      <td>0.88875</td>\n",
       "      <td>accuracy</td>\n",
       "      <td>0.017680</td>\n",
       "      <td>0.016561</td>\n",
       "      <td>0.017680</td>\n",
       "      <td>0.016561</td>\n",
       "      <td>1</td>\n",
       "      <td>True</td>\n",
       "      <td>2</td>\n",
       "    </tr>\n",
       "  </tbody>\n",
       "</table>\n",
       "</div>"
      ],
      "text/plain": [
       "                  model  score_val eval_metric  pred_time_val   fit_time  \\\n",
       "0              CatBoost    1.00000    accuracy       0.000000  10.984986   \n",
       "1         LightGBMLarge    1.00000    accuracy       0.003251   1.207607   \n",
       "2              LightGBM    1.00000    accuracy       0.004004   0.463083   \n",
       "3   WeightedEnsemble_L2    1.00000    accuracy       0.005004   0.549740   \n",
       "4               XGBoost    1.00000    accuracy       0.005745   0.490751   \n",
       "5      RandomForestGini    1.00000    accuracy       0.048708   0.647593   \n",
       "6      RandomForestEntr    1.00000    accuracy       0.049896   0.597038   \n",
       "7            LightGBMXT    0.99875    accuracy       0.005007   0.898967   \n",
       "8       NeuralNetFastAI    0.99500    accuracy       0.016053   6.190339   \n",
       "9        NeuralNetTorch    0.99250    accuracy       0.011129  11.853580   \n",
       "10       ExtraTreesEntr    0.96250    accuracy       0.048540   0.581442   \n",
       "11       ExtraTreesGini    0.95875    accuracy       0.049312   0.593273   \n",
       "12       KNeighborsUnif    0.89000    accuracy       0.020895   2.087476   \n",
       "13       KNeighborsDist    0.88875    accuracy       0.017680   0.016561   \n",
       "\n",
       "    pred_time_val_marginal  fit_time_marginal  stack_level  can_infer  \\\n",
       "0                 0.000000          10.984986            1       True   \n",
       "1                 0.003251           1.207607            1       True   \n",
       "2                 0.004004           0.463083            1       True   \n",
       "3                 0.000999           0.086657            2       True   \n",
       "4                 0.005745           0.490751            1       True   \n",
       "5                 0.048708           0.647593            1       True   \n",
       "6                 0.049896           0.597038            1       True   \n",
       "7                 0.005007           0.898967            1       True   \n",
       "8                 0.016053           6.190339            1       True   \n",
       "9                 0.011129          11.853580            1       True   \n",
       "10                0.048540           0.581442            1       True   \n",
       "11                0.049312           0.593273            1       True   \n",
       "12                0.020895           2.087476            1       True   \n",
       "13                0.017680           0.016561            1       True   \n",
       "\n",
       "    fit_order  \n",
       "0           7  \n",
       "1          13  \n",
       "2           4  \n",
       "3          14  \n",
       "4          11  \n",
       "5           5  \n",
       "6           6  \n",
       "7           3  \n",
       "8          10  \n",
       "9          12  \n",
       "10          9  \n",
       "11          8  \n",
       "12          1  \n",
       "13          2  "
      ]
     },
     "execution_count": 18,
     "metadata": {},
     "output_type": "execute_result"
    }
   ],
   "source": [
    "predictor.leaderboard(silent=False)"
   ]
  },
  {
   "cell_type": "markdown",
   "id": "9c539328-9de2-46f5-b410-3c95d744befe",
   "metadata": {},
   "source": [
    "**Prediction using XGBoost Model**"
   ]
  },
  {
   "cell_type": "code",
   "execution_count": 19,
   "id": "4963bd54-5eac-428b-b8c6-ddbe60d8540e",
   "metadata": {},
   "outputs": [],
   "source": [
    "predictions = predictor.predict(test_data, model='XGBoost')\n"
   ]
  },
  {
   "cell_type": "code",
   "execution_count": 20,
   "id": "f814fa46-f52d-45b1-8146-475f9e5485d8",
   "metadata": {},
   "outputs": [
    {
     "name": "stdout",
     "output_type": "stream",
     "text": [
      "6252    1\n",
      "4684    1\n",
      "1731    1\n",
      "4742    0\n",
      "4521    1\n",
      "Name: Diabetes, dtype: int64\n"
     ]
    }
   ],
   "source": [
    "print(predictions.head())  # If it's a pandas Series or DataFrame"
   ]
  },
  {
   "cell_type": "code",
   "execution_count": 21,
   "id": "34ab7db2-52bc-4dcc-8eec-3ecc73c6b154",
   "metadata": {},
   "outputs": [
    {
     "name": "stdout",
     "output_type": "stream",
     "text": [
      "      Age     Sex Ethnicity   BMI  Waist_Circumference  Fasting_Blood_Glucose  \\\n",
      "6252   50    Male     Black  27.7                107.9                  172.6   \n",
      "4684   25    Male     White  27.6                 85.5                   95.8   \n",
      "1731   56    Male     White  35.3                 83.8                  145.2   \n",
      "4742   54  Female     White  39.8                 74.9                  105.8   \n",
      "4521   50  Female     White  32.0                 84.9                  150.6   \n",
      "\n",
      "      HbA1c  Blood_Pressure_Systolic  Blood_Pressure_Diastolic  \\\n",
      "6252   14.3                      149                       117   \n",
      "4684   13.3                      122                        94   \n",
      "1731   14.0                      178                        94   \n",
      "4742    4.3                      145                        64   \n",
      "4521    6.9                      116                        79   \n",
      "\n",
      "      Cholesterol_Total  ...   GGT  Serum_Urate  Physical_Activity_Level  \\\n",
      "6252              281.8  ...  64.9          6.8                 Moderate   \n",
      "4684              178.5  ...  27.1          3.5                     High   \n",
      "1731              182.1  ...  48.9          5.1                     High   \n",
      "4742              160.0  ...  38.9          3.8                     High   \n",
      "4521              194.4  ...  38.7          6.9                     High   \n",
      "\n",
      "      Dietary_Intake_Calories Alcohol_Consumption  Smoking_Status  \\\n",
      "6252                     2466               Heavy          Former   \n",
      "4684                     3105            Moderate           Never   \n",
      "1731                     2434               Heavy           Never   \n",
      "4742                     3198            Moderate         Current   \n",
      "4521                     2205               Heavy           Never   \n",
      "\n",
      "     Family_History_of_Diabetes Previous_Gestational_Diabetes  Diabetes  \\\n",
      "6252                          1                             1         1   \n",
      "4684                          1                             0         1   \n",
      "1731                          1                             0         1   \n",
      "4742                          0                             0         0   \n",
      "4521                          1                             1         1   \n",
      "\n",
      "      Prediction  \n",
      "6252           1  \n",
      "4684           1  \n",
      "1731           1  \n",
      "4742           0  \n",
      "4521           1  \n",
      "\n",
      "[5 rows x 22 columns]\n"
     ]
    }
   ],
   "source": [
    "test_data_with_preds = test_data.copy()\n",
    "test_data_with_preds['Prediction'] = predictions\n",
    "print(test_data_with_preds.head())\n"
   ]
  },
  {
   "cell_type": "code",
   "execution_count": 22,
   "id": "099e74f2-976c-4ae7-ad8a-d50bda81a217",
   "metadata": {},
   "outputs": [
    {
     "name": "stdout",
     "output_type": "stream",
     "text": [
      "Accuracy: 0.9995\n",
      "              precision    recall  f1-score   support\n",
      "\n",
      "           0       0.99      1.00      1.00       181\n",
      "           1       1.00      1.00      1.00      1819\n",
      "\n",
      "    accuracy                           1.00      2000\n",
      "   macro avg       1.00      1.00      1.00      2000\n",
      "weighted avg       1.00      1.00      1.00      2000\n",
      "\n"
     ]
    }
   ],
   "source": [
    "from sklearn.metrics import accuracy_score, classification_report\n",
    "\n",
    "y_true = test_data['Diabetes']\n",
    "y_pred = predictions\n",
    "\n",
    "print(\"Accuracy:\", accuracy_score(y_true, y_pred))\n",
    "print(classification_report(y_true, y_pred))\n"
   ]
  },
  {
   "cell_type": "markdown",
   "id": "bf9becdb-303b-4011-900d-258b72276d19",
   "metadata": {},
   "source": [
    "**we can now visualize performance using a plot like a confusion matrix:**"
   ]
  },
  {
   "cell_type": "code",
   "execution_count": 23,
   "id": "a79ec026-dd92-4e05-9086-6b26c72b7148",
   "metadata": {},
   "outputs": [
    {
     "data": {
      "image/png": "[encoded data removed]",
      "text/plain": [
       "<Figure size 640x480 with 2 Axes>"
      ]
     },
     "metadata": {},
     "output_type": "display_data"
    }
   ],
   "source": [
    "from sklearn.metrics import confusion_matrix, ConfusionMatrixDisplay\n",
    "\n",
    "cm = confusion_matrix(y_true, y_pred)\n",
    "disp = ConfusionMatrixDisplay(confusion_matrix=cm, display_labels=[0, 1])\n",
    "disp.plot(cmap='Blues')\n",
    "plt.title('Confusion Matrix')\n",
    "plt.show()\n"
   ]
  },
  {
   "cell_type": "code",
   "execution_count": 24,
   "id": "11ffe0d7-a260-4879-b9c6-7ab798dbbcf8",
   "metadata": {},
   "outputs": [
    {
     "data": {
      "image/png": "[encoded data removed]",
      "text/plain": [
       "<Figure size 640x480 with 1 Axes>"
      ]
     },
     "metadata": {},
     "output_type": "display_data"
    },
    {
     "name": "stdout",
     "output_type": "stream",
     "text": [
      "AUC Score: 1.0\n"
     ]
    }
   ],
   "source": [
    "from sklearn.metrics import roc_auc_score, roc_curve\n",
    "\n",
    "y_probs = predictor.predict_proba(test_data)[1]  # Probability of class 1\n",
    "fpr, tpr, _ = roc_curve(y_true, y_probs)\n",
    "plt.plot(fpr, tpr, label='ROC Curve')\n",
    "plt.xlabel('False Positive Rate')\n",
    "plt.ylabel('True Positive Rate')\n",
    "plt.title('ROC Curve')\n",
    "plt.legend()\n",
    "plt.show()\n",
    "\n",
    "print(\"AUC Score:\", roc_auc_score(y_true, y_probs))\n"
   ]
  },
  {
   "cell_type": "code",
   "execution_count": null,
   "id": "e3392f85-d2ea-4fde-8668-e894e2de354d",
   "metadata": {},
   "outputs": [],
   "source": []
  },
  {
   "cell_type": "markdown",
   "id": "a9d66def-f946-439a-9bb0-8203b108f527",
   "metadata": {},
   "source": [
    "**Custom Input**\n"
   ]
  },
  {
   "cell_type": "code",
   "execution_count": 25,
   "id": "068b571b-5e2a-4b12-a680-dcf8060f20ff",
   "metadata": {},
   "outputs": [
    {
     "name": "stdout",
     "output_type": "stream",
     "text": [
      "Predicted Diabetes: 0\n"
     ]
    }
   ],
   "source": [
    "new_patient = pd.DataFrame([{\n",
    "    'Age': 25,\n",
    "    'Sex': 'Female',\n",
    "    'Ethnicity': 'Caucasian',\n",
    "    'BMI': 21.5,\n",
    "    'Waist_Circumference': 70,\n",
    "    'Blood_Pressure_Systolic': 110,\n",
    "    'Blood_Pressure_Diastolic': 70,\n",
    "    'Cholesterol_Total': 170,\n",
    "    'Cholesterol_HDL': 60,\n",
    "    'Cholesterol_LDL': 100,\n",
    "    'GGT': 20,\n",
    "    'Serum_Urate': 4.0,\n",
    "    'Physical_Activity_Level': 'High',\n",
    "    'Dietary_Intake_Calories': 1800,\n",
    "    'Alcohol_Consumption': 'None',\n",
    "    'Smoking_Status': 'Never',\n",
    "    'Family_History_of_Diabetes': 'No',\n",
    "    'Previous_Gestational_Diabetes': 'No',\n",
    "    'Fasting_Blood_Glucose': 85,\n",
    "    'HbA1c': 5.2\n",
    "}])\n",
    "\n",
    "prediction = predictor.predict(new_patient)\n",
    "print(\"Predicted Diabetes:\", prediction.values[0])\n"
   ]
  },
  {
   "cell_type": "code",
   "execution_count": 26,
   "id": "11ab6618-01b8-4d2f-abce-a67566708c0c",
   "metadata": {},
   "outputs": [
    {
     "name": "stdout",
     "output_type": "stream",
     "text": [
      "Predicted Diabetes: 1\n"
     ]
    }
   ],
   "source": [
    "new_patient = pd.DataFrame([{\n",
    "    'Age': 45,\n",
    "    'Sex': 'Male',\n",
    "    'Ethnicity': 'Asian',\n",
    "    'BMI': 27.5,\n",
    "    'Waist_Circumference': 95,\n",
    "    'Blood_Pressure_Systolic': 130,\n",
    "    'Blood_Pressure_Diastolic': 85,\n",
    "    'Cholesterol_Total': 200,\n",
    "    'Cholesterol_HDL': 50,\n",
    "    'Cholesterol_LDL': 130,\n",
    "    'GGT': 30,\n",
    "    'Serum_Urate': 5.2,\n",
    "    'Physical_Activity_Level': 'Moderate',\n",
    "    'Dietary_Intake_Calories': 2200,\n",
    "    'Alcohol_Consumption': 'Moderate',\n",
    "    'Smoking_Status': 'Never',\n",
    "    'Family_History_of_Diabetes': 'Yes',\n",
    "    'Previous_Gestational_Diabetes': 'No',\n",
    "    'Fasting_Blood_Glucose': 130,\n",
    "    'HbA1c': 7.1\n",
    "}])\n",
    "\n",
    "prediction = predictor.predict(new_patient)\n",
    "print(\"Predicted Diabetes:\", prediction.values[0])\n"
   ]
  },
  {
   "cell_type": "code",
   "execution_count": null,
   "id": "b4ff4477-9524-4b74-9ce1-6661112eb61e",
   "metadata": {},
   "outputs": [],
   "source": []
  }
 ],
 "metadata": {
  "kernelspec": {
   "display_name": "Python 3 (ipykernel)",
   "language": "python",
   "name": "python3"
  },
  "language_info": {
   "codemirror_mode": {
    "name": "ipython",
    "version": 3
   },
   "file_extension": ".py",
   "mimetype": "text/x-python",
   "name": "python",
   "nbconvert_exporter": "python",
   "pygments_lexer": "ipython3",
   "version": "3.11.0"
  }
 },
 "nbformat": 4,
 "nbformat_minor": 5
}
